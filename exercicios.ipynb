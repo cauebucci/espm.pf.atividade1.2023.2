{
 "cells": [
  {
   "cell_type": "markdown",
   "metadata": {},
   "source": [
    "# Atividade 1 - Programação Funcional"
   ]
  },
  {
   "cell_type": "markdown",
   "metadata": {},
   "source": [
    "## Exercício 1\n",
    "Crie uma variável String e a exiba no sentido inverso"
   ]
  },
  {
   "cell_type": "code",
   "execution_count": 6,
   "metadata": {},
   "outputs": [
    {
     "name": "stdout",
     "output_type": "stream",
     "text": [
      "\n"
     ]
    }
   ],
   "source": [
    "palavras = input(\"Qual a palavra que deseja inverter? \")\n",
    "\n",
    "print(palavras[::-1])"
   ]
  },
  {
   "cell_type": "markdown",
   "metadata": {},
   "source": [
    "## Exercício 2\n",
    "Verifique se na frase “Python é uma linguagem excelente” existe as expressões:\n",
    "```'py’, 'ing’, ‘zzz’```"
   ]
  },
  {
   "cell_type": "code",
   "execution_count": 7,
   "metadata": {},
   "outputs": [
    {
     "name": "stdout",
     "output_type": "stream",
     "text": [
      "Não existe\n",
      "Existe\n",
      "Não existe\n"
     ]
    }
   ],
   "source": [
    "frase = \"Python é uma linguagem excelente\"\n",
    "\n",
    "if 'py' in frase:\n",
    "    print(\"Existe\")\n",
    "else:\n",
    "    print(\"Não existe\")\n",
    "\n",
    "\n",
    "if 'ing' in frase:\n",
    "    print(\"Existe\")\n",
    "else:\n",
    "    print(\"Não existe\")\n",
    "\n",
    "\n",
    "if 'zzz' in frase:\n",
    "    print(\"Existe\")\n",
    "else:\n",
    "    print(\"Não existe\")"
   ]
  },
  {
   "cell_type": "markdown",
   "metadata": {},
   "source": [
    "## Exercício 3\n",
    "\n",
    "Para:\n",
    "```\n",
    "salario = 3450.45\n",
    "\n",
    "despesas = 2456.2\n",
    "```\n",
    "\n",
    "Calcule o percentual do salário comprometido com as despesas"
   ]
  },
  {
   "cell_type": "code",
   "execution_count": 8,
   "metadata": {},
   "outputs": [
    {
     "name": "stdout",
     "output_type": "stream",
     "text": [
      "Salário: R$ 3450.45\n",
      "Despesa: R$ 2456.20\n",
      "\n",
      "Percentual: 71.18%\n"
     ]
    }
   ],
   "source": [
    "salario = 3450.45\n",
    "despesas = 2456.2\n",
    "\n",
    "print(F\"Salário: R$ {salario:.2f}\")\n",
    "print(F\"Despesa: R$ {despesas:.2f}\")\n",
    "print(F\"\\nPercentual: {round((despesas / salario) * 100, 2)}%\")"
   ]
  },
  {
   "cell_type": "markdown",
   "metadata": {},
   "source": [
    "## Exercício 4\n",
    "\n",
    "Crie um programa em Python capaz de receber dois número x e y e que imprima na tela o resultado da soma destes números"
   ]
  },
  {
   "cell_type": "code",
   "execution_count": 9,
   "metadata": {},
   "outputs": [
    {
     "name": "stdout",
     "output_type": "stream",
     "text": [
      "2 + 2 = 4\n"
     ]
    }
   ],
   "source": [
    "x = int(input(\"X: \"))\n",
    "y = int(input(\"Y: \"))\n",
    "\n",
    "print(F\"{x} + {y} = {x+y}\")"
   ]
  },
  {
   "cell_type": "markdown",
   "metadata": {},
   "source": [
    "## Exercício 5\n",
    "\n",
    "Faça uma rotina que receba a idade de um pessoa e determine se ela é:\n",
    "```\n",
    "Menor de idade (<18)\n",
    "\n",
    "Adulto (entre 18 e 65)\n",
    "\n",
    "Melhor idade (66 e 100)\n",
    "\n",
    "Centenário > 100\n",
    "```"
   ]
  },
  {
   "cell_type": "code",
   "execution_count": 10,
   "metadata": {},
   "outputs": [
    {
     "name": "stdout",
     "output_type": "stream",
     "text": [
      "Você é adulto.\n"
     ]
    }
   ],
   "source": [
    "idade = int(input(\"Qual sua idade? \"))\n",
    "\n",
    "if idade < 18:\n",
    "    print(\"Você é menor de idade.\")\n",
    "elif idade >= 18 and idade <= 65:\n",
    "    print(\"Você é adulto.\")\n",
    "elif idade >= 66 and idade <= 100:\n",
    "    print(\"Você tem a melhor idade.\")\n",
    "elif idade > 100:\n",
    "    print(\"Você é centenário.\")"
   ]
  },
  {
   "cell_type": "markdown",
   "metadata": {},
   "source": [
    "## Exercício 6\n",
    "\n",
    "Exiba a palavra 'paralelepípedo’ com suas letras separadas por virgulas -> p,a,r,a,l,e,l,e,p,í,p,e,d,o,"
   ]
  },
  {
   "cell_type": "code",
   "execution_count": 11,
   "metadata": {},
   "outputs": [
    {
     "name": "stdout",
     "output_type": "stream",
     "text": [
      "p,a,r,a,l,e,l,e,p,í,p,e,d,o,"
     ]
    }
   ],
   "source": [
    "palavra = \"paralelepípedo\"\n",
    "\n",
    "for letra in palavra:\n",
    "    print(letra, end=\",\")"
   ]
  },
  {
   "cell_type": "markdown",
   "metadata": {},
   "source": [
    "## Exercício 7\n",
    "\n",
    "Exiba cada nome em uma linha diferente -> [Danieli', ‘André', ‘Marcelo', ‘Ana Paula’]\n",
    "\n"
   ]
  },
  {
   "cell_type": "code",
   "execution_count": 12,
   "metadata": {},
   "outputs": [
    {
     "name": "stdout",
     "output_type": "stream",
     "text": [
      "Nomes:\n",
      "  - Danieli\n",
      "  - André\n",
      "  - Marcelo\n",
      "  - Ana Paula\n"
     ]
    }
   ],
   "source": [
    "nomes = ['Danieli', 'André', 'Marcelo', 'Ana Paula']\n",
    "\n",
    "print(\"Nomes:\")\n",
    "for nome in nomes:\n",
    "    print(\"  - \" + nome)"
   ]
  },
  {
   "cell_type": "markdown",
   "metadata": {},
   "source": [
    "## Exercício 8\n",
    "\n",
    "Sorteie um numero de 0– 9 utilizando a função randint(0, 9) e solicite ao usuário inserir um numero até o mesmo acertar o valor sorteado randomicamente, ao acertar o valor exiba a frase “Número secreto x foi encontrado!” e pare o processamento."
   ]
  },
  {
   "cell_type": "code",
   "execution_count": 21,
   "metadata": {},
   "outputs": [
    {
     "name": "stdout",
     "output_type": "stream",
     "text": [
      "Número secreto x foi sorteado!\n",
      "Número incorreto!\n",
      "Número incorreto!\n",
      "Número incorreto!\n",
      "Número incorreto!\n",
      "Número secreto x foi encontrado!\n"
     ]
    }
   ],
   "source": [
    "import random;\n",
    "\n",
    "numeroX = random.randint(0, 9)\n",
    "\n",
    "print(\"Número secreto x foi sorteado!\")\n",
    "numero = int(input(\"Digite o número secreto X: \"));\n",
    "\n",
    "while numero != numeroX:\n",
    "    numero = int(input(\"Digite o número secreto X: \"));\n",
    "    if numero != numeroX:\n",
    "        print(\"Número incorreto!\")\n",
    "\n",
    "print(\"Número secreto x foi encontrado!\")"
   ]
  },
  {
   "cell_type": "markdown",
   "metadata": {},
   "source": [
    "## Exercício 9\n",
    "\n",
    "Receba um número de entrada e faça uma sequência de Fibonacci de 10 posições"
   ]
  },
  {
   "cell_type": "code",
   "execution_count": 27,
   "metadata": {},
   "outputs": [
    {
     "name": "stdout",
     "output_type": "stream",
     "text": [
      "[0, 1, 1, 2, 3, 5, 8, 13, 21, 34]\n"
     ]
    }
   ],
   "source": [
    "lista = []\n",
    "lista.append(0)\n",
    "lista.append(1)\n",
    "\n",
    "x = int(input(\"Digite um número: \"))\n",
    "\n",
    "for numero in range(2,x+0):\n",
    "    lista.append(lista[numero - 1] + lista[numero - 2])\n",
    "\n",
    "print(lista)"
   ]
  }
 ],
 "metadata": {
  "kernelspec": {
   "display_name": "Python 3",
   "language": "python",
   "name": "python3"
  },
  "language_info": {
   "codemirror_mode": {
    "name": "ipython",
    "version": 3
   },
   "file_extension": ".py",
   "mimetype": "text/x-python",
   "name": "python",
   "nbconvert_exporter": "python",
   "pygments_lexer": "ipython3",
   "version": "3.10.11"
  },
  "orig_nbformat": 4
 },
 "nbformat": 4,
 "nbformat_minor": 2
}
